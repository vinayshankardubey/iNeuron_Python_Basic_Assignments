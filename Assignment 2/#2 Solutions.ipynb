{
 "cells": [
  {
   "cell_type": "markdown",
   "id": "09398394",
   "metadata": {},
   "source": [
    "Question Number : 1\n",
    "    \n",
    "    1.What are the two values of the Boolean data type? How do you write them?\n",
    "    "
   ]
  },
  {
   "cell_type": "markdown",
   "id": "15c94ce7",
   "metadata": {},
   "source": [
    "Answer Number : 1\n",
    "    \n",
    "    True and False, these are the two values of boolean data types,we can write them like this\n",
    "    \n",
    "    Ex: x = True \n",
    "        y = False\n",
    "    "
   ]
  },
  {
   "cell_type": "markdown",
   "id": "1bf749c2",
   "metadata": {},
   "source": [
    "Question Number 2:\n",
    "    \n",
    "    2. What are the three different types of Boolean operators?"
   ]
  },
  {
   "cell_type": "markdown",
   "id": "8c655dee",
   "metadata": {},
   "source": [
    "Answer Number 2:\n",
    "    \n",
    "    And , Or, Not\n",
    "    "
   ]
  },
  {
   "cell_type": "markdown",
   "id": "aa3bf96f",
   "metadata": {},
   "source": [
    "Question Number : 3\n",
    "\n",
    "         3. Make a list of each Boolean operator's truth tables (i.e. every possible combination of Boolean values for the operator and what it evaluate )."
   ]
  },
  {
   "cell_type": "markdown",
   "id": "c8178f35",
   "metadata": {},
   "source": [
    "Answer Number 3:\n",
    "\n",
    "AND truth table\n",
    "\n",
    "A B Y\n",
    "0 0 0\n",
    "0 1 0 \n",
    "1 0 0\n",
    "1 1 1\n",
    "\n",
    "OR truth table\n",
    "\n",
    "A B Y\n",
    "0 0 0\n",
    "0 1 1\n",
    "1 0 1\n",
    "1 1 1\n",
    "\n",
    "NOT truth table\n",
    "A Y\n",
    "0 1\n",
    "1 0\n"
   ]
  },
  {
   "cell_type": "markdown",
   "id": "6888d8de",
   "metadata": {},
   "source": [
    "Question Number : 4\n",
    "    \n",
    "    4. What are the values of the following expressions?\n",
    "    (5 > 4) and (3 == 5) \n",
    "    not (5 > 4)\n",
    "    (5 > 4) or (3 == 5)\n",
    "    not ((5 > 4) or (3 == 5))\n",
    "    (True and True) and (True == False)\n",
    "    (not False) or (not True)\n",
    "    "
   ]
  },
  {
   "cell_type": "markdown",
   "id": "d2bb6e17",
   "metadata": {},
   "source": [
    "Answer Number : 4\n",
    "    \n",
    "    (5 > 4) and (3 == 5)  = False\n",
    "     \n",
    "    not (5 > 4) = False\n",
    "    \n",
    "    (5 > 4) or (3 == 5) = True\n",
    "    \n",
    "     not ((5 > 4) or (3 == 5)) = False\n",
    "    \n",
    "    (True and True) and (True == False) = False\n",
    "    \n",
    "    (not False) or (not True) = True\n",
    "        \n",
    "    \n",
    "    "
   ]
  },
  {
   "cell_type": "markdown",
   "id": "0dee41ad",
   "metadata": {},
   "source": [
    "Question Number : 5\n",
    "    \n",
    "    5. What are the six comparison operators?"
   ]
  },
  {
   "cell_type": "markdown",
   "id": "a9a4a1fd",
   "metadata": {},
   "source": [
    "Answer Number : 5 \n",
    "    \n",
    "    1. ==\n",
    "    2. >=\n",
    "    3. <=\n",
    "    4. >\n",
    "    5. <\n",
    "    6. !="
   ]
  },
  {
   "cell_type": "markdown",
   "id": "fb064721",
   "metadata": {},
   "source": [
    "Question Number : 6\n",
    "    \n",
    "    \n",
    "6. How do you tell the difference between the equal to and assignment operators?Describe a condition and when you would use one.\n"
   ]
  },
  {
   "cell_type": "markdown",
   "id": "d407b2d0",
   "metadata": {},
   "source": [
    "Answer Number : 6\n",
    "    \n",
    "    (=)Assignment operation is used for assigning values in variable. And otherside (==)Equal operator is used for comparison in two values.\n",
    "    \n",
    "    When we need to store sum value in variable then we can use (=)Assignment operator for assign their value.And when we need to \n",
    "    Compare two values then we can use Equal Opeartor."
   ]
  },
  {
   "cell_type": "markdown",
   "id": "e288b43e",
   "metadata": {},
   "source": [
    "Question Number : 7\n",
    "    7. Identify the three blocks in this code:\n",
    "        \n",
    "    spam = 0\n",
    "    if spam == 10:\n",
    "    print('eggs')\n",
    "    if spam > 5:\n",
    "    print('bacon')\n",
    "    else:\n",
    "    print('ham')\n",
    "    print('spam')\n",
    "    print('spam')\n",
    "\n",
    "    "
   ]
  },
  {
   "cell_type": "markdown",
   "id": "a946a0fd",
   "metadata": {},
   "source": [
    "Answer Number : 7\n",
    "    \n",
    "    Here first blog if{code} is used for finding come condition on given values when this condition returns true then their block of code \n",
    "    would be execute.otherwise this block of code would not execute.and then move to second if condition it is same as following if but here if \n",
    "    it returns true then execute other wise else condition which is block three would be execute.\n",
    "    \n",
    "    "
   ]
  },
  {
   "cell_type": "markdown",
   "id": "af32cfb5",
   "metadata": {},
   "source": [
    "Question Number : 8\n",
    "    Write code that prints Hello if 1 is stored in spam, prints Howdy if 2 is stored in spam, and prints Greetings! if anything else is stored in spam."
   ]
  },
  {
   "cell_type": "code",
   "execution_count": 17,
   "id": "0e93812c",
   "metadata": {},
   "outputs": [
    {
     "name": "stdout",
     "output_type": "stream",
     "text": [
      "Hello\n"
     ]
    }
   ],
   "source": [
    "# Answer Number : 8\n",
    "    \n",
    "spam = 1\n",
    "if spam == 1:\n",
    "    print('Hello')\n",
    "elif spam > 2:\n",
    "    print('Howdy')\n",
    "else:\n",
    "    print('greetings')\n",
    "\n",
    "    "
   ]
  },
  {
   "cell_type": "markdown",
   "id": "95b215ec",
   "metadata": {},
   "source": [
    "Question Number : 9\n",
    "        \n",
    "    9.If your programme is stuck in an endless loop, what keys you’ll press?"
   ]
  },
  {
   "cell_type": "markdown",
   "id": "15b5e58a",
   "metadata": {},
   "source": [
    "Answer Number : 9\n",
    "    \n",
    "    Ctrl + C\n",
    "    \n",
    "    because of you can end infinite loop using Ctrl + c\n",
    "    \n",
    "    "
   ]
  },
  {
   "cell_type": "markdown",
   "id": "ce96bc63",
   "metadata": {},
   "source": [
    "Question Number 10:\n",
    "    \n",
    "    How can you tell the difference between break and continue?"
   ]
  },
  {
   "cell_type": "markdown",
   "id": "aafa1139",
   "metadata": {},
   "source": [
    "Answer Number 10:\n",
    "    \n",
    "    When we are executing a while loop ..then sometimes we  need to break the loop when condition is satisfied before ending the loop.\n",
    "    then we could use break;and otherside some times we need to break a part of loop when some condition is satisfied then wen could use continue..."
   ]
  },
  {
   "cell_type": "markdown",
   "id": "e442fb86",
   "metadata": {},
   "source": [
    "Question Number : 11\n",
    "    -- In a for loop, what is the difference between range(10), range(0, 10), and range(0, 10, 1)?\n",
    "    "
   ]
  },
  {
   "cell_type": "markdown",
   "id": "7200482c",
   "metadata": {},
   "source": [
    "Answer Number 11 -\n",
    "        In this for loop output values of range(10),range(0,10),range(0,10,1) is not different only syntax is different..every syntax output will be same."
   ]
  },
  {
   "cell_type": "markdown",
   "id": "3ff9e98d",
   "metadata": {},
   "source": [
    "Question Number - 12\n",
    "        = Write a short program that prints the numbers 1 to 10 using a for loop. Then write an equivalent program that prints the numbers 1 to 10 using a while loop."
   ]
  },
  {
   "cell_type": "code",
   "execution_count": 15,
   "id": "5a5ba2ac",
   "metadata": {},
   "outputs": [
    {
     "name": "stdout",
     "output_type": "stream",
     "text": [
      "1\n",
      "2\n",
      "3\n",
      "4\n",
      "5\n",
      "6\n",
      "7\n",
      "8\n",
      "9\n",
      "10\n",
      "1\n",
      "2\n",
      "3\n",
      "4\n",
      "5\n",
      "6\n",
      "7\n",
      "8\n",
      "9\n",
      "10\n"
     ]
    }
   ],
   "source": [
    "# Answer NUmber - 12 :\n",
    "    \n",
    "#     i) \n",
    "for i in range(1,11):\n",
    "    print(i)\n",
    "    \n",
    "# ii)\n",
    "i = 1\n",
    "while(i<11):\n",
    "    print(i)\n",
    "    i = i+1"
   ]
  },
  {
   "cell_type": "markdown",
   "id": "d486713b",
   "metadata": {},
   "source": [
    "Question Number : 13\n",
    "            = If you had a function named bacon() inside a module named spam, how would you call it after importing spam?\n",
    "\n"
   ]
  },
  {
   "cell_type": "code",
   "execution_count": null,
   "id": "f8b60200",
   "metadata": {},
   "outputs": [],
   "source": [
    "Answer Number 13:\n",
    "    \n",
    "    After importing spam we can use bacon() directly by calling  same.bacon() function."
   ]
  }
 ],
 "metadata": {
  "kernelspec": {
   "display_name": "Python 3 (ipykernel)",
   "language": "python",
   "name": "python3"
  },
  "language_info": {
   "codemirror_mode": {
    "name": "ipython",
    "version": 3
   },
   "file_extension": ".py",
   "mimetype": "text/x-python",
   "name": "python",
   "nbconvert_exporter": "python",
   "pygments_lexer": "ipython3",
   "version": "3.9.7"
  }
 },
 "nbformat": 4,
 "nbformat_minor": 5
}
