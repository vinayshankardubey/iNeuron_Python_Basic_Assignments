{
 "cells": [
  {
   "cell_type": "markdown",
   "id": "a7c9190c",
   "metadata": {},
   "source": [
    "**1. What are escape characters, and how do you use them?**\n"
   ]
  },
  {
   "cell_type": "markdown",
   "id": "f4bb7689",
   "metadata": {},
   "source": [
    "**Answer:**\n",
    "\n",
    "\n",
    "An example of an illegal character is a double quote inside a string that is surrounded by double quotes:\n",
    "\n",
    "txt = \"We are the so-called \\\"Vikings\\\" from the north.\"\n"
   ]
  },
  {
   "cell_type": "markdown",
   "id": "d4ff3623",
   "metadata": {},
   "source": [
    "**2. What do the escape characters n and t stand for?**"
   ]
  },
  {
   "cell_type": "markdown",
   "id": "c352aad3",
   "metadata": {},
   "source": [
    "**Answer:** \n",
    "\n",
    "we can use \\n escape character for printing new line....and  \\t for tab."
   ]
  },
  {
   "cell_type": "markdown",
   "id": "c28fdc2b",
   "metadata": {},
   "source": [
    "**3. What is the way to include backslash characters in a string?**"
   ]
  },
  {
   "cell_type": "markdown",
   "id": "92e6a9a9",
   "metadata": {},
   "source": [
    "**Answer :** \n",
    "\n",
    "When we need to add \\ in string we can simply use two backslash (\"\\\\\\\\\") for printing backslash \\."
   ]
  },
  {
   "cell_type": "markdown",
   "id": "15227e9d",
   "metadata": {},
   "source": [
    "**4. The string \"Howl's Moving Castle\" is a correct value. Why isn't the single quote character in the word Howl's not escaped a problem?**\n",
    "       "
   ]
  },
  {
   "cell_type": "code",
   "execution_count": 2,
   "id": "56d48f68",
   "metadata": {},
   "outputs": [
    {
     "name": "stdout",
     "output_type": "stream",
     "text": [
      "Howl's Moving Castle\n"
     ]
    }
   ],
   "source": [
    "print(\"Howl's Moving Castle\")"
   ]
  },
  {
   "cell_type": "markdown",
   "id": "34e2127a",
   "metadata": {},
   "source": [
    "**Answer :**  The single quote in Howl's is fine because you've used double quotes to mark the beginning and end of the string. like wise we can use double quotes in with single quotes"
   ]
  },
  {
   "cell_type": "markdown",
   "id": "cce931fa",
   "metadata": {},
   "source": [
    "**5. How do you write a string of newlines if you don't want to use the n character?**"
   ]
  },
  {
   "cell_type": "code",
   "execution_count": 7,
   "id": "7219bbaa",
   "metadata": {},
   "outputs": [
    {
     "name": "stdout",
     "output_type": "stream",
     "text": [
      "printing something in new line\n",
      "newline\n"
     ]
    }
   ],
   "source": [
    "print(\"printing something in new line\",end = '\\n')\n",
    "print(\"newline\")"
   ]
  },
  {
   "cell_type": "markdown",
   "id": "3e8706f9",
   "metadata": {},
   "source": [
    "**6. What are the values of the given expressions?**"
   ]
  },
  {
   "cell_type": "markdown",
   "id": "8b167bb7",
   "metadata": {},
   "source": [
    "**Answer :**"
   ]
  },
  {
   "cell_type": "code",
   "execution_count": 10,
   "id": "bed82bf7",
   "metadata": {},
   "outputs": [
    {
     "data": {
      "text/plain": [
       "'e'"
      ]
     },
     "execution_count": 10,
     "metadata": {},
     "output_type": "execute_result"
    }
   ],
   "source": [
    "'Hello, world!'[1]"
   ]
  },
  {
   "cell_type": "code",
   "execution_count": 11,
   "id": "75703fd1",
   "metadata": {},
   "outputs": [
    {
     "data": {
      "text/plain": [
       "'Hello'"
      ]
     },
     "execution_count": 11,
     "metadata": {},
     "output_type": "execute_result"
    }
   ],
   "source": [
    "'Hello, world!'[0:5]"
   ]
  },
  {
   "cell_type": "code",
   "execution_count": 12,
   "id": "548a3bff",
   "metadata": {},
   "outputs": [
    {
     "data": {
      "text/plain": [
       "'Hello'"
      ]
     },
     "execution_count": 12,
     "metadata": {},
     "output_type": "execute_result"
    }
   ],
   "source": [
    "'Hello, world!'[:5]"
   ]
  },
  {
   "cell_type": "code",
   "execution_count": 15,
   "id": "78b84d4f",
   "metadata": {},
   "outputs": [
    {
     "data": {
      "text/plain": [
       "'lo, world!'"
      ]
     },
     "execution_count": 15,
     "metadata": {},
     "output_type": "execute_result"
    }
   ],
   "source": [
    "'Hello, world!'[3:]"
   ]
  },
  {
   "cell_type": "markdown",
   "id": "c7168a25",
   "metadata": {},
   "source": [
    "**7. What are the values of the following expressions?**"
   ]
  },
  {
   "cell_type": "markdown",
   "id": "55043dbb",
   "metadata": {},
   "source": [
    "**Answer :**"
   ]
  },
  {
   "cell_type": "code",
   "execution_count": 19,
   "id": "c0946f7f",
   "metadata": {},
   "outputs": [
    {
     "data": {
      "text/plain": [
       "'HELLO'"
      ]
     },
     "execution_count": 19,
     "metadata": {},
     "output_type": "execute_result"
    }
   ],
   "source": [
    "'Hello'.upper()"
   ]
  },
  {
   "cell_type": "code",
   "execution_count": 20,
   "id": "97609a04",
   "metadata": {},
   "outputs": [
    {
     "data": {
      "text/plain": [
       "True"
      ]
     },
     "execution_count": 20,
     "metadata": {},
     "output_type": "execute_result"
    }
   ],
   "source": [
    "'Hello'.upper().isupper()"
   ]
  },
  {
   "cell_type": "code",
   "execution_count": 21,
   "id": "dd5ec0db",
   "metadata": {},
   "outputs": [
    {
     "data": {
      "text/plain": [
       "'hello'"
      ]
     },
     "execution_count": 21,
     "metadata": {},
     "output_type": "execute_result"
    }
   ],
   "source": [
    "'Hello'.upper().lower()"
   ]
  },
  {
   "cell_type": "markdown",
   "id": "b886d7fc",
   "metadata": {},
   "source": [
    "**8. What are the values of the following expressions?**"
   ]
  },
  {
   "cell_type": "markdown",
   "id": "02d145fc",
   "metadata": {},
   "source": [
    "**Answer :**"
   ]
  },
  {
   "cell_type": "code",
   "execution_count": 29,
   "id": "c6714280",
   "metadata": {},
   "outputs": [
    {
     "data": {
      "text/plain": [
       "['Remember,', 'remember,', 'the', 'fifth', 'of', 'July.']"
      ]
     },
     "execution_count": 29,
     "metadata": {},
     "output_type": "execute_result"
    }
   ],
   "source": [
    "'Remember, remember, the fifth of July.'.split()"
   ]
  },
  {
   "cell_type": "code",
   "execution_count": 30,
   "id": "17e4afd6",
   "metadata": {},
   "outputs": [
    {
     "data": {
      "text/plain": [
       "'There-can-only-one.'"
      ]
     },
     "execution_count": 30,
     "metadata": {},
     "output_type": "execute_result"
    }
   ],
   "source": [
    "'-'.join('There can only one.'.split())"
   ]
  },
  {
   "cell_type": "markdown",
   "id": "8b1e37bf",
   "metadata": {},
   "source": [
    "**9. What are the methods for right-justifying, left-justifying, and centering a string?**\n"
   ]
  },
  {
   "cell_type": "markdown",
   "id": "7741d67a",
   "metadata": {},
   "source": [
    "**Answer :**\n"
   ]
  },
  {
   "cell_type": "code",
   "execution_count": 37,
   "id": "0bb48912",
   "metadata": {},
   "outputs": [
    {
     "data": {
      "text/plain": [
       "'Vinay     '"
      ]
     },
     "execution_count": 37,
     "metadata": {},
     "output_type": "execute_result"
    }
   ],
   "source": [
    "#left justified\n",
    "str =\"Vinay\"\n",
    "str.ljust(10)"
   ]
  },
  {
   "cell_type": "code",
   "execution_count": 39,
   "id": "e7a18e07",
   "metadata": {},
   "outputs": [
    {
     "data": {
      "text/plain": [
       "'       Vinay        '"
      ]
     },
     "execution_count": 39,
     "metadata": {},
     "output_type": "execute_result"
    }
   ],
   "source": [
    "#center justified\n",
    "\n",
    "str =\"Vinay\"\n",
    "str.center(20)"
   ]
  },
  {
   "cell_type": "code",
   "execution_count": 38,
   "id": "5614a724",
   "metadata": {},
   "outputs": [
    {
     "data": {
      "text/plain": [
       "'               Vinay'"
      ]
     },
     "execution_count": 38,
     "metadata": {},
     "output_type": "execute_result"
    }
   ],
   "source": [
    "#right justified\n",
    "\n",
    "str =\"Vinay\"\n",
    "str.rjust(20)"
   ]
  },
  {
   "cell_type": "markdown",
   "id": "4fec9727",
   "metadata": {},
   "source": [
    "**10. What is the best way to remove whitespace characters from the start or end?**"
   ]
  },
  {
   "cell_type": "markdown",
   "id": "03428ed4",
   "metadata": {},
   "source": [
    "**Answer :**"
   ]
  },
  {
   "cell_type": "code",
   "execution_count": 46,
   "id": "3c2966c9",
   "metadata": {},
   "outputs": [],
   "source": [
    "str = \"     Hello Vinay! How are you?    \""
   ]
  },
  {
   "cell_type": "code",
   "execution_count": 47,
   "id": "b680c384",
   "metadata": {},
   "outputs": [
    {
     "data": {
      "text/plain": [
       "'Hello Vinay! How are you?    '"
      ]
     },
     "execution_count": 47,
     "metadata": {},
     "output_type": "execute_result"
    }
   ],
   "source": [
    "str.lstrip()"
   ]
  },
  {
   "cell_type": "code",
   "execution_count": 48,
   "id": "f947a376",
   "metadata": {},
   "outputs": [
    {
     "data": {
      "text/plain": [
       "'     Hello Vinay! How are you?'"
      ]
     },
     "execution_count": 48,
     "metadata": {},
     "output_type": "execute_result"
    }
   ],
   "source": [
    "str.rstrip()"
   ]
  },
  {
   "cell_type": "code",
   "execution_count": 49,
   "id": "69e371d0",
   "metadata": {},
   "outputs": [
    {
     "data": {
      "text/plain": [
       "'Hello Vinay! How are you?'"
      ]
     },
     "execution_count": 49,
     "metadata": {},
     "output_type": "execute_result"
    }
   ],
   "source": [
    "str.strip()"
   ]
  },
  {
   "cell_type": "markdown",
   "id": "7c5be9e4",
   "metadata": {},
   "source": [
    "**END**"
   ]
  }
 ],
 "metadata": {
  "kernelspec": {
   "display_name": "Python 3 (ipykernel)",
   "language": "python",
   "name": "python3"
  },
  "language_info": {
   "codemirror_mode": {
    "name": "ipython",
    "version": 3
   },
   "file_extension": ".py",
   "mimetype": "text/x-python",
   "name": "python",
   "nbconvert_exporter": "python",
   "pygments_lexer": "ipython3",
   "version": "3.9.7"
  }
 },
 "nbformat": 4,
 "nbformat_minor": 5
}
