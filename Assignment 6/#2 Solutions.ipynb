{
 "cells": [
  {
   "cell_type": "markdown",
   "id": "a7c9190c",
   "metadata": {},
   "source": [
    "1. What are escape characters, and how do you use them?"
   ]
  },
  {
   "cell_type": "markdown",
   "id": "f4bb7689",
   "metadata": {},
   "source": [
    "Answer :  To insert characters that are illegal in a string, use an escape               character.An escape character is a backslash \\ followed by the                 character you want to insert.\n",
    "    \n",
    "              An example of an illegal character is a double quote inside a                   string that is surrounded by double quotes:\n",
    "              \n",
    "              txt = \"We are the so-called \\\"Vikings\\\" from the north.\""
   ]
  },
  {
   "cell_type": "markdown",
   "id": "d4ff3623",
   "metadata": {},
   "source": [
    "2. What do the escape characters n and t stand for?"
   ]
  },
  {
   "cell_type": "markdown",
   "id": "c352aad3",
   "metadata": {},
   "source": [
    "Answer : we can use \\n escape character for printing new line....and  \\t for tab."
   ]
  },
  {
   "cell_type": "markdown",
   "id": "c28fdc2b",
   "metadata": {},
   "source": [
    "3. What is the way to include backslash characters in a string?"
   ]
  },
  {
   "cell_type": "markdown",
   "id": "92e6a9a9",
   "metadata": {},
   "source": [
    "Answer : When we need to add \\ in string we can simple use two backslash \\\\ for printing backslash \\."
   ]
  },
  {
   "cell_type": "markdown",
   "id": "15227e9d",
   "metadata": {},
   "source": [
    "    4. The string \"Howl's Moving Castle\" is a correct value. Why isn't the single quote character in the word Howl's not escaped a problem?\n",
    "       "
   ]
  },
  {
   "cell_type": "markdown",
   "id": "7d103fb1",
   "metadata": {},
   "source": [
    "ext = \"Howl's Moving Castle\"\n",
    "print(ext)"
   ]
  },
  {
   "cell_type": "markdown",
   "id": "34e2127a",
   "metadata": {},
   "source": [
    "Answer : "
   ]
  },
  {
   "cell_type": "markdown",
   "id": "cce931fa",
   "metadata": {},
   "source": [
    "5. How do you write a string of newlines if you don't want to use the n character?"
   ]
  },
  {
   "cell_type": "markdown",
   "id": "c95b7a7c",
   "metadata": {},
   "source": []
  },
  {
   "cell_type": "code",
   "execution_count": null,
   "id": "e436fbfb",
   "metadata": {},
   "outputs": [],
   "source": [
    "\n",
    "6. What are the values of the given expressions?\n",
    "'Hello, world!'[1]\n",
    "'Hello, world!'[0:5]\n",
    "'Hello, world!'[:5]\n",
    "'Hello, world!'[3:]\n",
    "\n",
    "7. What are the values of the following expressions?\n",
    "'Hello'.upper()\n",
    "'Hello'.upper().isupper()\n",
    "'Hello'.upper().lower()\n",
    "8. What are the values of the following expressions?\n",
    "'Remember, remember, the fifth of July.'.split()\n",
    "'-'.join('There can only one.'.split())\n",
    "9. What are the methods for right-justifying, left-justifying, and centering a string?\n",
    "10. What is the best way to remove whitespace characters from the start or end?\n"
   ]
  }
 ],
 "metadata": {
  "kernelspec": {
   "display_name": "Python 3 (ipykernel)",
   "language": "python",
   "name": "python3"
  },
  "language_info": {
   "codemirror_mode": {
    "name": "ipython",
    "version": 3
   },
   "file_extension": ".py",
   "mimetype": "text/x-python",
   "name": "python",
   "nbconvert_exporter": "python",
   "pygments_lexer": "ipython3",
   "version": "3.9.7"
  }
 },
 "nbformat": 4,
 "nbformat_minor": 5
}
