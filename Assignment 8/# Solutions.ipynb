{
 "cells": [
  {
   "cell_type": "markdown",
   "id": "b85a620a",
   "metadata": {},
   "source": [
    "**Ques 1:** Is the Python Standard Library included with PyInputPlus?"
   ]
  },
  {
   "cell_type": "markdown",
   "id": "34dca89b",
   "metadata": {},
   "source": [
    "NO its not included with Python. We needs to Install it.\n",
    "\n",
    "PyInputPlus is a Python module used for taking inputs with additional validation features. PyInputPlus will keep asking the user for text until they enter valid input."
   ]
  },
  {
   "cell_type": "markdown",
   "id": "30a45dbc",
   "metadata": {},
   "source": [
    "**Ques 2 :** Why is PyInputPlus commonly imported with import pyinputplus as pypi?"
   ]
  },
  {
   "cell_type": "markdown",
   "id": "a1d68c57",
   "metadata": {},
   "source": [
    "**Answer :** We uses \"as pypi\" for using pyintputplus.when we need to call pyinputplus we can use pypi at the place of pyinputplus. because we are giving a short name to this module as pypi"
   ]
  },
  {
   "cell_type": "markdown",
   "id": "35be0d44",
   "metadata": {},
   "source": [
    "**Que 3 :** How do you distinguish between inputInt() and inputFloat()?"
   ]
  },
  {
   "cell_type": "markdown",
   "id": "7ea01d02",
   "metadata": {},
   "source": [
    "**Answer :** inputinInt() helps us to get \"integer\" value input from user. and inputFLoat() helps us to get \"float\" value input from user."
   ]
  },
  {
   "cell_type": "markdown",
   "id": "0f1c10b9",
   "metadata": {},
   "source": [
    "**Que 4 :**Using PyInputPlus, how do you ensure that the user enters a whole number between 0 and 99?"
   ]
  },
  {
   "cell_type": "markdown",
   "id": "18e32de8",
   "metadata": {},
   "source": [
    "**Answer :** We can use pyip.inputint(min=0, max=99) this code"
   ]
  },
  {
   "cell_type": "markdown",
   "id": "563949ca",
   "metadata": {},
   "source": [
    "**Que 5:** What is transferred to the keyword arguments allowRegexes and blockRegexes?"
   ]
  },
  {
   "cell_type": "markdown",
   "id": "e691e412",
   "metadata": {},
   "source": [
    "**Answer :** allowReges is used for allowing given regex like \"allowRegex = [$,r,.]\" and we can use blockRegex for blocking some Regex Like \"blockRegex = [$,r,.]\""
   ]
  },
  {
   "cell_type": "markdown",
   "id": "da92fa8d",
   "metadata": {},
   "source": [
    "**Que 6 :** If a blank input is entered three times, what does inputStr(limit=3) do?"
   ]
  },
  {
   "cell_type": "markdown",
   "id": "7d350863",
   "metadata": {},
   "source": [
    "**Answer :** It will give an Error. "
   ]
  },
  {
   "cell_type": "markdown",
   "id": "08aadb76",
   "metadata": {},
   "source": [
    "**Que 7:** If blank input is entered three times, what does inputStr(limit=3, default='hello') do?"
   ]
  },
  {
   "cell_type": "markdown",
   "id": "85514545",
   "metadata": {},
   "source": [
    "**Answer :** I will set default word which is hello."
   ]
  }
 ],
 "metadata": {
  "kernelspec": {
   "display_name": "Python 3 (ipykernel)",
   "language": "python",
   "name": "python3"
  },
  "language_info": {
   "codemirror_mode": {
    "name": "ipython",
    "version": 3
   },
   "file_extension": ".py",
   "mimetype": "text/x-python",
   "name": "python",
   "nbconvert_exporter": "python",
   "pygments_lexer": "ipython3",
   "version": "3.9.7"
  }
 },
 "nbformat": 4,
 "nbformat_minor": 5
}
