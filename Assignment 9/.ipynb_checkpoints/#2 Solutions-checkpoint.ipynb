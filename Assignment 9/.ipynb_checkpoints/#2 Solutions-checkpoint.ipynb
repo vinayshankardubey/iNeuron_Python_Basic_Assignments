{
 "cells": [
  {
   "cell_type": "markdown",
   "id": "872a8753",
   "metadata": {},
   "source": [
    "**Que- 1 : To what does a relative path refer?**"
   ]
  },
  {
   "cell_type": "markdown",
   "id": "d00f1185",
   "metadata": {},
   "source": [
    "**Answer :** **relpath()** method in Python is used to get a relative filepath to the given path either from the current working directory or from the given directory."
   ]
  },
  {
   "cell_type": "markdown",
   "id": "8fe382fa",
   "metadata": {},
   "source": [
    "**Que -2 : What does an absolute path start with your operating system?**"
   ]
  },
  {
   "cell_type": "markdown",
   "id": "fc8858cc",
   "metadata": {},
   "source": [
    "**Answer :** An absolute path refers to the complete details needed to locate a file or folder, starting from the root element and ending with the other subdirectories. Absolute paths are used in websites and operating systems for locating files and folders.\n",
    "\n",
    "An absolute path is also known as an absolute pathname or full path."
   ]
  },
  {
   "cell_type": "markdown",
   "id": "78042c44",
   "metadata": {},
   "source": [
    "**Que -3 : What do the functions os.getcwd() and os.chdir() do?**"
   ]
  },
  {
   "cell_type": "markdown",
   "id": "cdca48cb",
   "metadata": {},
   "source": [
    "**Answer :**  method **getcwd()** returns current working directory of a process.\n",
    "    **os.chdir()** method in Python used to change the current working directory to specified path. It takes only a single argument as new directory path.\n",
    "\n"
   ]
  },
  {
   "cell_type": "markdown",
   "id": "12387164",
   "metadata": {},
   "source": [
    "**Que -4 What are the . and .. folders?**"
   ]
  },
  {
   "cell_type": "markdown",
   "id": "5d248959",
   "metadata": {},
   "source": [
    "**Answer :** . Represents the Current Directory Whereas .. Represents the Parent Directory of the Current Directory\n",
    "For Example: if the below path is my absolute path:\n",
    "\n",
    "<mark>C:\\\\Users\\\\vishnu\\\\Documents\\\\iNeuron-Assignments\\\\Python Basic Assignment</mark>\n",
    "\n",
    "Then . represents the path <mark>C:\\\\Users\\\\vishnu\\\\Documents\\\\iNeuron-Assignments\\\\Python Basic Assignment</mark>\n",
    "\n",
    "Where as .. represents the <mark>path C:\\\\Users\\\\vishnu\\\\Documents\\\\iNeuron-Assignments</mark>"
   ]
  },
  {
   "cell_type": "markdown",
   "id": "67c74483",
   "metadata": {},
   "source": [
    "**Que -5 In C:\\bacon\\eggs\\spam.txt, which part is the dir name, and which part is the base name?**"
   ]
  },
  {
   "cell_type": "markdown",
   "id": "880cbc8b",
   "metadata": {},
   "source": [
    "**Answer :** C:\\bacon\\eggs\\spam.txt in this term \"C:\\bacon\\eggs\\\" is directory name and \"spam.txt\" is the base name."
   ]
  },
  {
   "cell_type": "markdown",
   "id": "d55ce443",
   "metadata": {},
   "source": [
    "**Que -6 What are the three “mode” arguments that can be passed to the open() function?**"
   ]
  },
  {
   "cell_type": "markdown",
   "id": "5a8fdf4a",
   "metadata": {},
   "source": [
    "**Answer :**      \"r\" - Read - Default value. Opens a file for reading, error if the file does not exist.\n",
    "\n",
    "                \"w\" - Write - Opens a file for writing, creates the file if it does not exist.\n",
    "                \n",
    "                \"a\" - Append - Opens a file for appending, creates the file if it does not exist.\n",
    "\n",
    "\n",
    "\n"
   ]
  },
  {
   "cell_type": "markdown",
   "id": "47309e86",
   "metadata": {},
   "source": [
    "**Que -7 What happens if an existing file is opened in write mode?**"
   ]
  },
  {
   "cell_type": "markdown",
   "id": "5f9c27a9",
   "metadata": {},
   "source": [
    "**Answer :** Using this mode will overwrite any existing content in a file. If the given file does not exist, a new one will be created."
   ]
  },
  {
   "cell_type": "markdown",
   "id": "540bb412",
   "metadata": {},
   "source": [
    "**Que -8 How do you tell the difference between read() and readlines()?**"
   ]
  },
  {
   "cell_type": "markdown",
   "id": "847d27e0",
   "metadata": {},
   "source": [
    "**Answer :** The main difference is that **read()** will read the whole file at once and then print out the first characters that take up as many bytes as you specify in the parenthesis versus the **readline()** that will read and print out only the first characters that take up as many bytes as you specify in the parenthesis. You may want to use readline() when you're reading files that are too big for your RAM."
   ]
  },
  {
   "cell_type": "markdown",
   "id": "e44520ff",
   "metadata": {},
   "source": [
    "**Que -9 : What data structure does a shelf value resemble?**"
   ]
  },
  {
   "cell_type": "markdown",
   "id": "0ad0924e",
   "metadata": {},
   "source": [
    "**Answer :** A shelf value resembles a dictionary value; it has keys and values, along with keys() and values() methods that work similarly to the dictionary methods of the same names."
   ]
  },
  {
   "cell_type": "code",
   "execution_count": null,
   "id": "0fc187ba",
   "metadata": {},
   "outputs": [],
   "source": []
  }
 ],
 "metadata": {
  "kernelspec": {
   "display_name": "Python 3 (ipykernel)",
   "language": "python",
   "name": "python3"
  },
  "language_info": {
   "codemirror_mode": {
    "name": "ipython",
    "version": 3
   },
   "file_extension": ".py",
   "mimetype": "text/x-python",
   "name": "python",
   "nbconvert_exporter": "python",
   "pygments_lexer": "ipython3",
   "version": "3.9.7"
  }
 },
 "nbformat": 4,
 "nbformat_minor": 5
}
