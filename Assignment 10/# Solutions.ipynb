{
 "cells": [
  {
   "cell_type": "markdown",
   "id": "002ae945",
   "metadata": {},
   "source": [
    "**Que : 1 How do you distinguish between shutil.copy() and shutil.copytree()?**"
   ]
  },
  {
   "cell_type": "markdown",
   "id": "c4ff4efb",
   "metadata": {},
   "source": [
    "**Answer :** We can use <mark>shutil.copy()</mark> for copy a single file while shutil.copytree() for entire folder and every folder and file contained in it. \n"
   ]
  },
  {
   "cell_type": "markdown",
   "id": "d184f802",
   "metadata": {},
   "source": [
    "**Que :2  What function is used to rename files?**"
   ]
  },
  {
   "cell_type": "markdown",
   "id": "dc56d134",
   "metadata": {},
   "source": [
    "**Answer :** We can use <mark> rename(\"old_name\",\"new_name\") </mark> which is comes from os module."
   ]
  },
  {
   "cell_type": "markdown",
   "id": "37037047",
   "metadata": {},
   "source": [
    "**Que :3 What is the difference between the delete functions in the send2trash and shutil modules?**"
   ]
  },
  {
   "cell_type": "markdown",
   "id": "8e1eb2ee",
   "metadata": {},
   "source": [
    "**Answer :** using delete function of <mark>send2trash</mark> we can send any file and folder to trash (in recyclebin).and using delete function of <mark>shutil</mark> we can delete  file and folder completely."
   ]
  },
  {
   "cell_type": "markdown",
   "id": "0763544b",
   "metadata": {},
   "source": [
    "**Que :4 ZipFile objects have a close() method just like File objects’ close() method. What ZipFile method is equivalent to File objects’ open() method?**"
   ]
  },
  {
   "cell_type": "markdown",
   "id": "4a194dad",
   "metadata": {},
   "source": [
    "**Answer :** In ZipFile module <mark>ZipFile.Close()</mark> is must be call before exiting program or essesntial records will we written.\n",
    "\n",
    "And <mark>ZipFile.Open()</mark> Can be used to open a file for reading writing and appending."
   ]
  },
  {
   "cell_type": "markdown",
   "id": "9651c704",
   "metadata": {},
   "source": [
    "**Que :5 Create a programme that searches a folder tree for files with a certain file extension (such as .pdf or .jpg). Copy these files from whatever location they are in to a new folder.**\n",
    "    "
   ]
  },
  {
   "cell_type": "code",
   "execution_count": 6,
   "id": "dc31e7ae",
   "metadata": {},
   "outputs": [],
   "source": [
    "import os\n",
    "import shutil\n",
    "\n",
    "def search_and_copy(source,destination,extensions):\n",
    "    source = os.path.abspath(source)\n",
    "    destination = os.path.abspath(destination)\n",
    "    for foldername, subfolder, filenames in os.walk(source):\n",
    "        print(f'Folder Name ➞ {foldername}',end='\\n\\n')\n",
    "        print(f'Sub Folders ➞ {subfolder}',end='\\n\\n')\n",
    "        print(f'Files ➞ {filenames}',end='\\n\\n')\n",
    "        for filename in filenames:\n",
    "            fileName,extension = os.path.splitext(filename)\n",
    "            if extension in extensions:\n",
    "                targetFile = foldername+os.path.sep+fileName+extension\n",
    "                shutil.copy(targetFile, destination)\n",
    "        print(f'Files copied successfully from {source} to {destination}')\n",
    "    \n",
    "extensions = ['.pdf','.jpg','.ipynb']\n",
    "source = 'Dummy Source'\n",
    "destination = 'Dummy Destination'\n",
    "search_and_copy(source, destination, extensions)"
   ]
  },
  {
   "cell_type": "code",
   "execution_count": null,
   "id": "f39a2541",
   "metadata": {},
   "outputs": [],
   "source": []
  }
 ],
 "metadata": {
  "kernelspec": {
   "display_name": "Python 3 (ipykernel)",
   "language": "python",
   "name": "python3"
  },
  "language_info": {
   "codemirror_mode": {
    "name": "ipython",
    "version": 3
   },
   "file_extension": ".py",
   "mimetype": "text/x-python",
   "name": "python",
   "nbconvert_exporter": "python",
   "pygments_lexer": "ipython3",
   "version": "3.9.7"
  }
 },
 "nbformat": 4,
 "nbformat_minor": 5
}
