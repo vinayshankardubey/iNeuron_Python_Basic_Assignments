{
 "cells": [
  {
   "cell_type": "markdown",
   "id": "afbfe3f8",
   "metadata": {},
   "source": [
    "Question  1: \n",
    "    = Why are functions advantageous to have in your programs?\n",
    "    "
   ]
  },
  {
   "cell_type": "markdown",
   "id": "d7ccb77b",
   "metadata": {},
   "source": [
    "Answer : 1\n",
    "\n",
    "Advantages of function\n",
    "1. By using functions, we can avoid rewriting same logic/code again and again in a program.\n",
    "2. We can call functions any number of times in a program and from any place in a program.\n",
    "3. We can track a large program easily when it is divided into multiple functions.\n",
    "4. Reusability is the main achievement of functions.\n",
    "5. However, Function calling is always a overhead in a program."
   ]
  },
  {
   "cell_type": "markdown",
   "id": "0b6c1f00",
   "metadata": {},
   "source": [
    "Question 2. When does the code in a function run: when it's specified or when it's called?"
   ]
  },
  {
   "cell_type": "markdown",
   "id": "40a5e1bd",
   "metadata": {},
   "source": [
    "Answer 2:\n",
    "\n",
    "\n",
    "    When function is specified then this is only a work process.when we would call that function then they perform there process and return some result.\n"
   ]
  },
  {
   "cell_type": "markdown",
   "id": "70a4aa92",
   "metadata": {},
   "source": [
    "Question 3. What statement creates a function?"
   ]
  },
  {
   "cell_type": "markdown",
   "id": "442a595a",
   "metadata": {},
   "source": [
    "Answer 3:\n",
    "    \n",
    "    def function_name(parameter):\n",
    "            'block of code'\n",
    "            return None"
   ]
  },
  {
   "cell_type": "markdown",
   "id": "45ce13ba",
   "metadata": {},
   "source": [
    "Question 4. What is the difference between a function and a function call"
   ]
  },
  {
   "cell_type": "markdown",
   "id": "142b959e",
   "metadata": {},
   "source": [
    "Answer 4:\n",
    "    \n",
    "A function is a piece of code which enhanced the reusability and modularity of your program. It means that piece of code need not be written again.\n",
    "A function call means invoking or calling that function. Unless a function is called there is no use of that function.\n",
    "    \n",
    "    \n",
    "    "
   ]
  },
  {
   "cell_type": "markdown",
   "id": "ec23ebdc",
   "metadata": {},
   "source": [
    "Question 5. How many global scopes are there in a Python program? How many local scopes?"
   ]
  },
  {
   "cell_type": "markdown",
   "id": "7d95cb2a",
   "metadata": {},
   "source": [
    "Answer 5:\n",
    "    there are only one global scope in python prgram which is __main__.\n",
    "    and in python there is no any predefined local scope.\n",
    "    \n",
    "    "
   ]
  },
  {
   "cell_type": "markdown",
   "id": "c7c1ed95",
   "metadata": {},
   "source": [
    "Question 6. What happens to variables in a local scope when the function call returns?"
   ]
  },
  {
   "cell_type": "markdown",
   "id": "c4109256",
   "metadata": {},
   "source": [
    "Answer 6:\n",
    "    When the function call returns.the Local scope should be returns to previous state.or we can say those local variables are gone forever.\n",
    "    "
   ]
  },
  {
   "cell_type": "markdown",
   "id": "ea0000e0",
   "metadata": {},
   "source": [
    "Question 7. What is the concept of a return value? Is it possible to have a return value in an expression?"
   ]
  },
  {
   "cell_type": "markdown",
   "id": "a7a0ff43",
   "metadata": {},
   "source": [
    "Answer 7:\n",
    "    \n",
    "    Concept of return value is depend on when we calling a function then function would perform some task. when task would be completed the they gives us some result.That results are called return value.\n",
    "    expressions are already returns some value. "
   ]
  },
  {
   "cell_type": "markdown",
   "id": "f9b8fdac",
   "metadata": {},
   "source": [
    "Question 8. If a function does not have a return statement, what is the return value of a call to that function?"
   ]
  },
  {
   "cell_type": "markdown",
   "id": "613da383",
   "metadata": {},
   "source": [
    "Answer 8:\n",
    "    \n",
    "    None"
   ]
  },
  {
   "cell_type": "markdown",
   "id": "b56f9fb2",
   "metadata": {},
   "source": [
    "Question  9. How do you make a function variable refer to the global variable?"
   ]
  },
  {
   "cell_type": "markdown",
   "id": "bd49834e",
   "metadata": {},
   "source": [
    "Answer 9:\n",
    "    \n",
    "    We can define variable like this:  global var_name"
   ]
  },
  {
   "cell_type": "markdown",
   "id": "8cbd92dd",
   "metadata": {},
   "source": [
    "Question 10. What is the data type of None?"
   ]
  },
  {
   "cell_type": "markdown",
   "id": "8ee2b797",
   "metadata": {},
   "source": [
    "Answer 10 : NoneType is the data type of None.\n",
    "    "
   ]
  },
  {
   "cell_type": "markdown",
   "id": "aa6b2492",
   "metadata": {},
   "source": [
    "Question 11. What does the sentence import areallyourpetsnamederic do?"
   ]
  },
  {
   "cell_type": "markdown",
   "id": "8eda1caf",
   "metadata": {},
   "source": [
    "Answer 11.\n",
    "\n",
    "    When we have any other python file available with this name areallyourpetsnamederic.py then it will be imported in current file like moule.\n",
    "    Otherwise it will thorough \"ModuleNotFoundError\"\n",
    "    "
   ]
  },
  {
   "cell_type": "markdown",
   "id": "7f1bf324",
   "metadata": {},
   "source": [
    "Question 12. If you had a bacon() feature in a spam module, what would you call it after importing spam?"
   ]
  },
  {
   "cell_type": "markdown",
   "id": "240c021a",
   "metadata": {},
   "source": [
    "Answer 12 :\n",
    "    \n",
    "    We would call spam.bacon()"
   ]
  },
  {
   "cell_type": "markdown",
   "id": "dccb0c07",
   "metadata": {},
   "source": [
    "Question 13. What can you do to save a programme from crashing if it encounters an error?"
   ]
  },
  {
   "cell_type": "markdown",
   "id": "4280560d",
   "metadata": {},
   "source": [
    "Answer 13:\n",
    "    \n",
    "    We can use \"try except\" for prevent python program to encounters an error.\n",
    "    \n",
    "    "
   ]
  },
  {
   "cell_type": "markdown",
   "id": "7dcb5ca8",
   "metadata": {},
   "source": [
    "Question 14. What is the purpose of the try clause? What is the purpose of the except clause?"
   ]
  },
  {
   "cell_type": "markdown",
   "id": "382d1caa",
   "metadata": {},
   "source": [
    "Answer 14:\n",
    "    try is used for checking if block of programme is throughing any error or not and if it is throughing an error then we can used except for handing or checking this error."
   ]
  },
  {
   "cell_type": "code",
   "execution_count": null,
   "id": "f238bb7f",
   "metadata": {},
   "outputs": [],
   "source": []
  }
 ],
 "metadata": {
  "kernelspec": {
   "display_name": "Python 3 (ipykernel)",
   "language": "python",
   "name": "python3"
  },
  "language_info": {
   "codemirror_mode": {
    "name": "ipython",
    "version": 3
   },
   "file_extension": ".py",
   "mimetype": "text/x-python",
   "name": "python",
   "nbconvert_exporter": "python",
   "pygments_lexer": "ipython3",
   "version": "3.9.7"
  }
 },
 "nbformat": 4,
 "nbformat_minor": 5
}
