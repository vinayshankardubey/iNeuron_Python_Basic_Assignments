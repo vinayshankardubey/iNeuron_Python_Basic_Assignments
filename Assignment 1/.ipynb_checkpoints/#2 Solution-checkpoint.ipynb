{
 "cells": [
  {
   "cell_type": "markdown",
   "id": "443acc49",
   "metadata": {},
   "source": [
    "Question 1 : \n",
    "\n",
    "In the below elements which of them are values or an expression? eg:- values can be\n",
    "integer or string and expressions will be mathematical operators.\n",
    "*\n",
    "&#39;hello&#39;\n",
    "-87.8\n",
    "-\n",
    "/\n",
    "+\n",
    "6."
   ]
  },
  {
   "cell_type": "markdown",
   "id": "c945ce9d",
   "metadata": {},
   "source": [
    "Answer 1:\n",
    "\n",
    " * = Expression\n",
    "\n",
    " 'hello' = Value\n",
    " -87.8 = Value\n",
    " - =  Expression\n",
    " / =  Expression\n",
    " + =  Expression\n",
    " 6 = Value"
   ]
  },
  {
   "cell_type": "markdown",
   "id": "fa6883b3",
   "metadata": {},
   "source": [
    "Question 2:\n",
    "\n",
    " What is the difference between string and variable?\n"
   ]
  },
  {
   "cell_type": "markdown",
   "id": "55e34fe1",
   "metadata": {},
   "source": [
    "Answer 2 :\n",
    "    A Variable is a store of information, and a String is a type of information\n",
    "    you would store in a Variable. A String is usually words, enclosed with \" \"\n",
    "    \n",
    "    Eg String x =\"Welcome to iNeuron\" \n",
    "    X is the Variable, and we declared it as a String, \n",
    "    use the single = to assign the text to it.\n",
    "\n",
    "    "
   ]
  },
  {
   "cell_type": "markdown",
   "id": "8a9a89ad",
   "metadata": {},
   "source": [
    "Question 3:\n",
    "    \n",
    "    Describe three different data types."
   ]
  },
  {
   "cell_type": "markdown",
   "id": "97ff6518",
   "metadata": {},
   "source": [
    "Answer 3:\n",
    "    \n",
    "   1 Integers – This value is represented by int class. \n",
    "    It contains positive or negative whole numbers (without fraction or decimal).\n",
    "    In Python there is no limit to how long an integer value can be.\n",
    "\n",
    "   2 Float – This value is represented by float class. \n",
    "    It is a real number with floating point representation.\n",
    "    It is specified by a decimal point. Optionally,\n",
    "    the character e or E followed by a positive or negative integer may be\n",
    "    appended to specify scientific notation.\n",
    "    \n",
    "    \n",
    "   3 String - In Python, Strings are arrays of bytes representing Unicode\n",
    "    characters. A string is a collection of one or more characters \n",
    "    put in a single quote, double-quote or triple quote. \n",
    "    In python there is no character data type, a character is a string of \n",
    "    length one. It is represented by str class.\n"
   ]
  },
  {
   "cell_type": "markdown",
   "id": "d1337d06",
   "metadata": {},
   "source": [
    "Question 4: What is an expression made up of? What do all expressions do?"
   ]
  },
  {
   "cell_type": "code",
   "execution_count": null,
   "id": "2aadd53e",
   "metadata": {},
   "outputs": [],
   "source": []
  }
 ],
 "metadata": {
  "kernelspec": {
   "display_name": "Python 3 (ipykernel)",
   "language": "python",
   "name": "python3"
  },
  "language_info": {
   "codemirror_mode": {
    "name": "ipython",
    "version": 3
   },
   "file_extension": ".py",
   "mimetype": "text/x-python",
   "name": "python",
   "nbconvert_exporter": "python",
   "pygments_lexer": "ipython3",
   "version": "3.9.7"
  }
 },
 "nbformat": 4,
 "nbformat_minor": 5
}
