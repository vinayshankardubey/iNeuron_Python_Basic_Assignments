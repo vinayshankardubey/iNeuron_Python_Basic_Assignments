{
 "cells": [
  {
   "cell_type": "markdown",
   "id": "443acc49",
   "metadata": {},
   "source": [
    "Question 1 : \n",
    "\n",
    "In the below elements which of them are values or an expression? eg:- values can be\n",
    "integer or string and expressions will be mathematical operators.\n",
    "*\n",
    "&#39;hello&#39;\n",
    "-87.8\n",
    "-\n",
    "/\n",
    "+\n",
    "6"
   ]
  },
  {
   "cell_type": "markdown",
   "id": "a4865756",
   "metadata": {},
   "source": [
    "Answer 1 :\n",
    "\n",
    "-    =  Expression\n",
    "\n",
    "/     =  Expression\n",
    "\n",
    "+\t=  Expression\n",
    "\n",
    "6  = Value\n"
   ]
  },
  {
   "cell_type": "markdown",
   "id": "651e3765",
   "metadata": {},
   "source": [
    "\n",
    "\n",
    "Question 2.\n",
    "What is the difference between string and variable?\n"
   ]
  },
  {
   "cell_type": "markdown",
   "id": "decb8899",
   "metadata": {},
   "source": [
    "Answer 2 :\n",
    "    \n",
    "A Variable is a store of information, and a String is a type of information you would store in a Variable. A String is usually words, enclosed with \" \" \n",
    "Eg String x =\"Welcome to iNeuron\" \n",
    "X is the Variable, and we declared it as a String, use the single = to assign the text to it.\n"
   ]
  },
  {
   "cell_type": "markdown",
   "id": "fb6cb515",
   "metadata": {},
   "source": [
    "Question NO : 3\n",
    "    \n",
    "    Describe three different data types."
   ]
  },
  {
   "cell_type": "markdown",
   "id": "a626164c",
   "metadata": {},
   "source": [
    "Answer No. 3\n",
    "\n",
    "String : String is a data type that we can use to define words.\n",
    "Float : Float is a Data Type that we can use to define decimal numbers.\n",
    "Integer : Integer is a data type that can be use to define numbers\n"
   ]
  },
  {
   "cell_type": "markdown",
   "id": "05369c4a",
   "metadata": {},
   "source": [
    "Question Number :  4\n",
    "    \n",
    "    4. What is an expression made up of? What do all expressions do?\n",
    "    "
   ]
  },
  {
   "cell_type": "markdown",
   "id": "14af32b0",
   "metadata": {},
   "source": [
    "Answer Number 4:\n",
    "    \n",
    "    An expression is a combination of operators, constants and variables. \n",
    "    An expression may consist of one or more operands, and zero or more operators to produce a value.\n",
    "    \n",
    "    "
   ]
  },
  {
   "cell_type": "markdown",
   "id": "7152b785",
   "metadata": {},
   "source": [
    "\n",
    "Question Number : 5\n",
    "    This assignment statements, like spam = 10. What is the difference between an expression and a statement?\n",
    "    "
   ]
  },
  {
   "cell_type": "markdown",
   "id": "c2ece28f",
   "metadata": {},
   "source": [
    "Answer Number 5 : \n",
    "\n",
    "       Expression\n",
    "                Expressions always returns a value\n",
    "                Functions are also expressions. Even a non returning function will still return None value, so it is an expression.\n",
    "                Can print the result value\n",
    "                Examples Of Python Expressions: “Hello” + “World”, 4 + 5 etc.\n",
    "\n",
    "\n",
    "        Statement\n",
    "                A statement never returns a value\n",
    "                Cannot print any result\n",
    "                Examples Of Python Statements: Assignment statements, conditional branching, loops, classes, import, def, try, except, pass, del etc"
   ]
  },
  {
   "cell_type": "markdown",
   "id": "f19ec6dd",
   "metadata": {},
   "source": [
    "Question Number : 6\n",
    "    \n",
    "    \n",
    "    6. After running the following code, what does the variable bacon contain?\n",
    "        \n",
    "        bacon = 22\n",
    "        bacon + 1\n",
    "\n",
    "    "
   ]
  },
  {
   "cell_type": "code",
   "execution_count": 23,
   "id": "6b13ce76",
   "metadata": {},
   "outputs": [
    {
     "name": "stdout",
     "output_type": "stream",
     "text": [
      "I have eaten 99 burritos.\n"
     ]
    }
   ],
   "source": [
    "\n",
    "\n"
   ]
  },
  {
   "cell_type": "markdown",
   "id": "71192985",
   "metadata": {},
   "source": [
    "Answer Number : 6\n",
    "    \n",
    "    22\n",
    "    \n",
    "        \n",
    "    "
   ]
  },
  {
   "cell_type": "markdown",
   "id": "5148c790",
   "metadata": {},
   "source": [
    "Question NUmber : 7\n",
    "    \n",
    "7. What should the values of the following two terms be?\n",
    "\n",
    "'spam' + 'spamspam'\n",
    "\n",
    "'spam' * 3\n"
   ]
  },
  {
   "cell_type": "markdown",
   "id": "1cec6592",
   "metadata": {},
   "source": [
    "Answer Number : 7\n",
    "   \n",
    "spamspamspam\n",
    "\n",
    "spamspamspam\n",
    "    "
   ]
  },
  {
   "cell_type": "markdown",
   "id": "708381f7",
   "metadata": {},
   "source": [
    "Question Number : 8\n",
    "    \n",
    "    8. Why is eggs a valid variable name while 100 is invalid?\n",
    "    \n",
    "    \n",
    "    Answer NUmber 8:\n",
    "        \n",
    "        eggs is valid variable and 100 is not because of python  is not allowed to put a number in begining of variable."
   ]
  },
  {
   "cell_type": "markdown",
   "id": "b03cecb7",
   "metadata": {},
   "source": [
    "Question Number : 9\n",
    "    \n",
    "    9. What three functions can be used to get the integer, floating-point number, or string version of a value?\n",
    " \n",
    "Answer Number :9 \n",
    "    \n",
    "    int(value)\n",
    "    float(value)\n",
    "    str(value)"
   ]
  },
  {
   "cell_type": "markdown",
   "id": "e50bce4b",
   "metadata": {},
   "source": [
    "Question Number : 10\n",
    "    \n",
    "    10. Why does this expression cause an error? How can you fix it?\n",
    "    'I have eaten ' + 99 + ' burritos.'\n",
    "\n",
    "   Answer NUmber 10 :\n",
    "   \n",
    "   This expression cause error because of 99 is a Integer and according to python rules we could not concatinate string and integer.\n",
    "    \n",
    "    we can fix this like this :\n",
    "        \n",
    "        f'I have eaten {99} burritos.'"
   ]
  }
 ],
 "metadata": {
  "kernelspec": {
   "display_name": "Python 3 (ipykernel)",
   "language": "python",
   "name": "python3"
  },
  "language_info": {
   "codemirror_mode": {
    "name": "ipython",
    "version": 3
   },
   "file_extension": ".py",
   "mimetype": "text/x-python",
   "name": "python",
   "nbconvert_exporter": "python",
   "pygments_lexer": "ipython3",
   "version": "3.9.7"
  }
 },
 "nbformat": 4,
 "nbformat_minor": 5
}
