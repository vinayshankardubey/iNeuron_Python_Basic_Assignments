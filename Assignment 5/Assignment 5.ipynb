{
 "cells": [
  {
   "cell_type": "markdown",
   "id": "22c2fb2c",
   "metadata": {},
   "source": [
    "1. What does an empty dictionary's code look like?\n"
   ]
  },
  {
   "cell_type": "markdown",
   "id": "4f114a75",
   "metadata": {},
   "source": [
    "{}"
   ]
  },
  {
   "cell_type": "markdown",
   "id": "635ae032",
   "metadata": {},
   "source": [
    "2. What is the value of a dictionary value with the key 'foo' and the value 42?\n"
   ]
  },
  {
   "cell_type": "markdown",
   "id": "510f81e7",
   "metadata": {},
   "source": [
    "{\n",
    "'foo': 42\n",
    "}"
   ]
  },
  {
   "cell_type": "code",
   "execution_count": null,
   "id": "716cb5d0",
   "metadata": {},
   "outputs": [],
   "source": [
    "3. What is the most significant distinction between a dictionary and a list?\n"
   ]
  },
  {
   "cell_type": "markdown",
   "id": "ba3febd0",
   "metadata": {},
   "source": [
    "in list we uses [], and diction we user {}"
   ]
  },
  {
   "cell_type": "markdown",
   "id": "dc4688f3",
   "metadata": {},
   "source": [
    "4. What happens if you try to access spam['foo'] if spam is {'bar': 100}?"
   ]
  },
  {
   "cell_type": "markdown",
   "id": "4004e32d",
   "metadata": {},
   "source": [
    "It will give an Error.because we can access that value by there real  keyname."
   ]
  },
  {
   "cell_type": "markdown",
   "id": "8f8c2139",
   "metadata": {},
   "source": [
    "5. If a dictionary is stored in spam, what is the difference between the expressions 'cat' in spam and 'cat' in spam.keys()?"
   ]
  },
  {
   "cell_type": "markdown",
   "id": "15b3cb9b",
   "metadata": {},
   "source": [
    "in spam.key() 'cat' is a key.for the rest expression 'cat' is a value of key 'cat'.\n"
   ]
  },
  {
   "cell_type": "markdown",
   "id": "865bbd89",
   "metadata": {},
   "source": [
    "6. If a dictionary is stored in spam, what is the difference between the expressions 'cat' in spam and 'cat' in spam.values()?"
   ]
  },
  {
   "cell_type": "markdown",
   "id": "af97e03b",
   "metadata": {},
   "source": [
    "in spam.values() 'cat' is a value.for the rest expression 'cat' is a key to access its value."
   ]
  },
  {
   "cell_type": "markdown",
   "id": "b6b13ea4",
   "metadata": {},
   "source": [
    "7. What is a shortcut for the following code?\n",
    "\n",
    "   if 'color' not in spam:\n",
    "   spam['color'] = 'black' "
   ]
  },
  {
   "cell_type": "code",
   "execution_count": 22,
   "id": "cdf4c33f",
   "metadata": {},
   "outputs": [
    {
     "data": {
      "text/plain": [
       "{'color': 'black'}"
      ]
     },
     "execution_count": 22,
     "metadata": {},
     "output_type": "execute_result"
    }
   ],
   "source": [
    "spam ={}\n",
    "if 'color' not in spam:\n",
    "    spam['color'] = 'black'\n",
    "spam\n",
    "    "
   ]
  },
  {
   "cell_type": "markdown",
   "id": "e57fb92d",
   "metadata": {},
   "source": [
    "8. How do you \"pretty print\" dictionary values using which module and funct"
   ]
  },
  {
   "cell_type": "markdown",
   "id": "5de7192a",
   "metadata": {},
   "source": [
    "we can use pprint() function and json module (json.dumps()) function for pretty print dectionary."
   ]
  },
  {
   "cell_type": "code",
   "execution_count": null,
   "id": "d3dcbba8",
   "metadata": {},
   "outputs": [],
   "source": []
  }
 ],
 "metadata": {
  "kernelspec": {
   "display_name": "Python 3 (ipykernel)",
   "language": "python",
   "name": "python3"
  },
  "language_info": {
   "codemirror_mode": {
    "name": "ipython",
    "version": 3
   },
   "file_extension": ".py",
   "mimetype": "text/x-python",
   "name": "python",
   "nbconvert_exporter": "python",
   "pygments_lexer": "ipython3",
   "version": "3.9.7"
  }
 },
 "nbformat": 4,
 "nbformat_minor": 5
}
