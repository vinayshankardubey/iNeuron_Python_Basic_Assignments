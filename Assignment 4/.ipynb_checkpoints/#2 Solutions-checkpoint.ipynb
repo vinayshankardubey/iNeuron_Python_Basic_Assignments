{
 "cells": [
  {
   "cell_type": "markdown",
   "id": "44d72638",
   "metadata": {},
   "source": [
    "Question 1. What exactly is []?"
   ]
  },
  {
   "cell_type": "markdown",
   "id": "e7028db6",
   "metadata": {},
   "source": [
    "Answer 1: \n",
    "    \n",
    "    Generally We  calls [] as the name of Square Bracket.In python we  uses [] to define lists."
   ]
  },
  {
   "cell_type": "markdown",
   "id": "58dcea1c",
   "metadata": {},
   "source": [
    "Question 2. In a list of values stored in a variable called spam, how would you assign the value 'hello' as the third value? (Assume [2, 4, 6, 8, 10] are in spam.)"
   ]
  },
  {
   "cell_type": "code",
   "execution_count": 2,
   "id": "681d32b0",
   "metadata": {},
   "outputs": [
    {
     "data": {
      "text/plain": [
       "[2, 4, 6, 'hello', 10]"
      ]
     },
     "execution_count": 2,
     "metadata": {},
     "output_type": "execute_result"
    }
   ],
   "source": [
    "# Answer 2:\n",
    "\n",
    "    \n",
    "spam = [2,4,6,8,10]\n",
    "spam[2] = 'hello'\n",
    "\n",
    "spam"
   ]
  },
  {
   "cell_type": "code",
   "execution_count": null,
   "id": "7c26d954",
   "metadata": {},
   "outputs": [],
   "source": []
  }
 ],
 "metadata": {
  "kernelspec": {
   "display_name": "Python 3 (ipykernel)",
   "language": "python",
   "name": "python3"
  },
  "language_info": {
   "codemirror_mode": {
    "name": "ipython",
    "version": 3
   },
   "file_extension": ".py",
   "mimetype": "text/x-python",
   "name": "python",
   "nbconvert_exporter": "python",
   "pygments_lexer": "ipython3",
   "version": "3.9.7"
  }
 },
 "nbformat": 4,
 "nbformat_minor": 5
}
