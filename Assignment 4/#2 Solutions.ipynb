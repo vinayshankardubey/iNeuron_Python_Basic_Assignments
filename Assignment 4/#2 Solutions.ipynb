{
 "cells": [
  {
   "cell_type": "markdown",
   "id": "0e751b24",
   "metadata": {},
   "source": [
    "Question 1. What exactly is []?"
   ]
  },
  {
   "cell_type": "markdown",
   "id": "b304c32b",
   "metadata": {},
   "source": [
    "Answer 1: \n",
    "    \n",
    "    Generally We  calls [] as the name of Square Bracket.In python we  uses [] to define lists."
   ]
  },
  {
   "cell_type": "markdown",
   "id": "f1f44c1b",
   "metadata": {},
   "source": [
    "Question 2. In a list of values stored in a variable called spam, how would you assign the value 'hello' as the third value? (Assume [2, 4, 6, 8, 10] are in spam.)"
   ]
  },
  {
   "cell_type": "code",
   "execution_count": 3,
   "id": "45e80edb",
   "metadata": {},
   "outputs": [
    {
     "data": {
      "text/plain": [
       "[2, 4, 'hello', 8, 10]"
      ]
     },
     "execution_count": 3,
     "metadata": {},
     "output_type": "execute_result"
    }
   ],
   "source": [
    "# Answer 2:\n",
    "#\n",
    "    \n",
    "spam = [2,4,6,8,10]\n",
    "spam[2] = 'hello'\n",
    "\n",
    "spam"
   ]
  },
  {
   "cell_type": "markdown",
   "id": "ce295231",
   "metadata": {},
   "source": [
    "#Let's pretend the spam includes the list ['a', 'b', 'c', 'd'] for the next three queries.`m\n",
    "\n",
    "Question 3:  What is the value of spam[int(int('3' * 2) / 11)]?\n",
    "\n"
   ]
  },
  {
   "cell_type": "markdown",
   "id": "013a5d83",
   "metadata": {},
   "source": [
    "Answer 3:\n",
    "\n",
    "'d'\n"
   ]
  },
  {
   "cell_type": "markdown",
   "id": "f0efc43c",
   "metadata": {},
   "source": [
    "Question 4. What is the value of spam[-1]?"
   ]
  },
  {
   "cell_type": "markdown",
   "id": "93694738",
   "metadata": {},
   "source": [
    "Answer 4:\n",
    "    \n",
    "    'd'"
   ]
  },
  {
   "cell_type": "markdown",
   "id": "71ae99da",
   "metadata": {},
   "source": [
    "Question 5. What is the value of spam[:2]?"
   ]
  },
  {
   "cell_type": "markdown",
   "id": "db36ef50",
   "metadata": {},
   "source": [
    " Answer 5:\n",
    "\n",
    "['a', 'b']`\n",
    "\n",
    "   "
   ]
  },
  {
   "cell_type": "markdown",
   "id": "35db31f6",
   "metadata": {},
   "source": [
    "Let's pretend bacon has the list [3.14, 'cat,' 11, 'cat,' True] for the next three questions.\n",
    "\n",
    "Question 6. What is the value of bacon.index('cat')?\n"
   ]
  },
  {
   "cell_type": "markdown",
   "id": "6d7cf681",
   "metadata": {},
   "source": [
    "Answer 6 :\n",
    "    \n",
    "    1\n",
    "    \n",
    "    "
   ]
  },
  {
   "cell_type": "markdown",
   "id": "a8002d8a",
   "metadata": {},
   "source": [
    "Question 7. How does bacon.append(99) change the look of the list value in bacon?"
   ]
  },
  {
   "cell_type": "markdown",
   "id": "e39512df",
   "metadata": {},
   "source": [
    "Answer 7:\n",
    "    \n",
    "    [3.14, 'cat', 11, 'cat', True, 99]"
   ]
  },
  {
   "cell_type": "markdown",
   "id": "f7dc51eb",
   "metadata": {},
   "source": [
    "Question 8. How does bacon.remove('cat') change the look of the list in bacon?"
   ]
  },
  {
   "cell_type": "code",
   "execution_count": 22,
   "id": "1e62acd2",
   "metadata": {},
   "outputs": [
    {
     "data": {
      "text/plain": [
       "[3.14, 11, 'cat', True, 99]"
      ]
     },
     "execution_count": 22,
     "metadata": {},
     "output_type": "execute_result"
    }
   ],
   "source": [
    "# Answer :\n",
    "[3.14, 11, 'cat', True, 99]"
   ]
  },
  {
   "cell_type": "markdown",
   "id": "9cb8f083",
   "metadata": {},
   "source": [
    "Question 9. What are the list concatenation and list replication operators?\n"
   ]
  },
  {
   "cell_type": "code",
   "execution_count": null,
   "id": "6772e99f",
   "metadata": {},
   "outputs": [],
   "source": [
    "Answer :\n",
    "    \n",
    "    "
   ]
  }
 ],
 "metadata": {
  "kernelspec": {
   "display_name": "Python 3 (ipykernel)",
   "language": "python",
   "name": "python3"
  },
  "language_info": {
   "codemirror_mode": {
    "name": "ipython",
    "version": 3
   },
   "file_extension": ".py",
   "mimetype": "text/x-python",
   "name": "python",
   "nbconvert_exporter": "python",
   "pygments_lexer": "ipython3",
   "version": "3.9.7"
  }
 },
 "nbformat": 4,
 "nbformat_minor": 5
}
